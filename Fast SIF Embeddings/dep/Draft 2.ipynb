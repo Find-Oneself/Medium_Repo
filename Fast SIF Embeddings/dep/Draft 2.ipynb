{
 "cells": [
  {
   "cell_type": "code",
   "execution_count": 1,
   "metadata": {},
   "outputs": [
    {
     "name": "stdout",
     "output_type": "stream",
     "text": [
      "/Users/oliverborchers/Library/Mobile Documents/com~apple~CloudDocs/Diss/Medium/Medium_Repo/Sentence Summaries Fast Please\n"
     ]
    },
    {
     "data": {
      "text/plain": [
       "(7377494, 11611920)"
      ]
     },
     "execution_count": 1,
     "metadata": {},
     "output_type": "execute_result"
    }
   ],
   "source": [
    "%load_ext cython\n",
    "from gensim.models import Word2Vec\n",
    "import numpy as np\n",
    "import timeit\n",
    "from nltk.corpus import brown\n",
    "from re import sub\n",
    "import psutil\n",
    "\n",
    "import os\n",
    "\n",
    "np.random.seed(42)\n",
    "\n",
    "# Define data types for later use in cython\n",
    "REAL = np.float32 \n",
    "INT = np.intc\n",
    "\n",
    "# Simple in-place normalization\n",
    "def normalize_text(sentences):\n",
    "    for i, s in enumerate(sentences):\n",
    "        sentences[i] = [sub(\"[^a-zA-Z]\", \"\", w.lower()) for w in s]\n",
    "\n",
    "sentences = [s for s in brown.sents()]\n",
    "normalize_text(sentences)\n",
    "\n",
    "# Train standard word2vec model on preprocessed brown corpus\n",
    "model = Word2Vec(size=50, iter=10, workers=psutil.cpu_count(), sg=1, window=5, negative=5, min_count=5)\n",
    "model.build_vocab(sentences)\n",
    "model.train(sentences, epochs=model.epochs, total_examples=model.corpus_count)"
   ]
  },
  {
   "cell_type": "code",
   "execution_count": 2,
   "metadata": {},
   "outputs": [],
   "source": [
    "def sif_embeddings(sentences, model, alpha=1e-3):\n",
    "    \"\"\"Compute the SIF embeddings for a list of sentences\n",
    "\n",
    "    Parameters\n",
    "    ----------\n",
    "    sentences : list\n",
    "        The sentences to compute the embeddings for\n",
    "    model : `~gensim.models.base_any2vec.BaseAny2VecModel`\n",
    "        A gensim model that contains the word vectors and the vocabulary\n",
    "    alpha : float, optional\n",
    "        Parameter which is used to weigh each individual word based on its probability p(w).\n",
    "\n",
    "    Returns\n",
    "    -------\n",
    "    numpy.ndarray \n",
    "        SIF sentence embedding matrix of dim len(sentences) * dimension\n",
    "    \"\"\"\n",
    "    \n",
    "    vlookup = model.wv.vocab  # Gives us access to word index and count\n",
    "    vectors = model.wv        # Gives us access to word vectors\n",
    "    size = model.vector_size  # Embedding size\n",
    "    \n",
    "    Z = 0\n",
    "    for k in vlookup:\n",
    "        Z += vlookup[k].count # Compute the normalization constant Z\n",
    "    \n",
    "    output = []\n",
    "    \n",
    "    # Iterate all sentences\n",
    "    for s in sentences:\n",
    "        count = 0\n",
    "        v = np.zeros(size, dtype=REAL) # Summary vector\n",
    "        # Iterare all words\n",
    "        for w in s:\n",
    "            # A word must be present in the vocabulary\n",
    "            if w in vlookup:\n",
    "                for i in range(size):\n",
    "                    v[i] += ( alpha / (alpha + (vlookup[w].count / Z))) * vectors[w][i]\n",
    "                count += 1 \n",
    "                \n",
    "        if count > 0:\n",
    "            for i in range(size):\n",
    "                v[i] *= 1/count\n",
    "        output.append(v)\n",
    "    return np.vstack(output).astype(REAL)"
   ]
  },
  {
   "cell_type": "code",
   "execution_count": 3,
   "metadata": {},
   "outputs": [
    {
     "name": "stdout",
     "output_type": "stream",
     "text": [
      "1.69 s ± 83.8 ms per loop (mean ± std. dev. of 7 runs, 10 loops each)\n"
     ]
    }
   ],
   "source": [
    "%%timeit -n 10\n",
    "sif_embeddings(sentences[:200], model)"
   ]
  },
  {
   "cell_type": "code",
   "execution_count": 4,
   "metadata": {},
   "outputs": [],
   "source": [
    "def sif_embeddings_1(sentences, model, alpha=1e-3):\n",
    "    vlookup = model.wv.vocab\n",
    "    vectors = model.wv\n",
    "    size = model.vector_size\n",
    "    \n",
    "    Z = 0\n",
    "    for k in vlookup:\n",
    "        Z += vlookup[k].count\n",
    "    \n",
    "    output = []\n",
    "    for s in sentences:\n",
    "        count = 0\n",
    "        v = np.zeros(size, dtype=REAL)\n",
    "        for w in s:\n",
    "            if w in vlookup:\n",
    "                v += ( alpha / (alpha + (vlookup[w].count / Z))) * vectors[w]\n",
    "                count += 1\n",
    "        if count > 0:\n",
    "            v *= 1/count\n",
    "        output.append(v)\n",
    "    return np.vstack(output).astype(REAL)"
   ]
  },
  {
   "cell_type": "code",
   "execution_count": 5,
   "metadata": {},
   "outputs": [
    {
     "data": {
      "text/plain": [
       "True"
      ]
     },
     "execution_count": 5,
     "metadata": {},
     "output_type": "execute_result"
    }
   ],
   "source": [
    "np.allclose(sif_embeddings(sentences[:200], model), sif_embeddings_1(sentences[:200], model), atol=1e-6)"
   ]
  },
  {
   "cell_type": "code",
   "execution_count": 6,
   "metadata": {},
   "outputs": [
    {
     "name": "stdout",
     "output_type": "stream",
     "text": [
      "27.5 ms ± 2.28 ms per loop (mean ± std. dev. of 7 runs, 100 loops each)\n"
     ]
    }
   ],
   "source": [
    "%%timeit -n 100\n",
    "sif_embeddings_1(sentences[:200], model)"
   ]
  },
  {
   "cell_type": "code",
   "execution_count": 7,
   "metadata": {},
   "outputs": [],
   "source": [
    "def compute_sif_weights(wv, alpha=1e-3):\n",
    "        \"\"\"Precompute the SIF weights\n",
    "\n",
    "        Parameters\n",
    "        ----------\n",
    "        wv : `~gensim.models.keyedvectors.BaseKeyedVectors`\n",
    "            A gensim keyedvectors child that contains the word vectors and the vocabulary\n",
    "        alpha : float\n",
    "            Parameter which is used to weigh each individual word based on its probability p(w).\n",
    "\n",
    "        \"\"\"\n",
    "        if alpha > 0:\n",
    "            corpus_size = 0\n",
    "            wv.sif = np.zeros(shape=len(wv.vocab), dtype=REAL) \n",
    "            # Make sure to set the dtypes right for Cython\n",
    "\n",
    "            for k in wv.index2word:\n",
    "                corpus_size += wv.vocab[k].count\n",
    "\n",
    "            for idx, k in enumerate(wv.index2word):\n",
    "                pw = wv.vocab[k].count / corpus_size\n",
    "                wv.sif[idx] = alpha / (alpha+pw)\n",
    "        else:\n",
    "            wv.sif = np.ones(shape=len(wv.vocab), dtype=REAL)\n",
    "\n",
    "compute_sif_weights(model.wv)"
   ]
  },
  {
   "cell_type": "code",
   "execution_count": 8,
   "metadata": {},
   "outputs": [],
   "source": [
    "def sif_embeddings_2(sentences, model, alpha=1e-3):\n",
    "    vlookup = model.wv.vocab\n",
    "    vectors = model.wv\n",
    "    size = model.vector_size\n",
    "    \n",
    "    output = []\n",
    "    for s in sentences:\n",
    "        count = 0\n",
    "        v = np.zeros(size, dtype=REAL)\n",
    "        for w in s:\n",
    "            if w in vlookup:\n",
    "                v +=  vectors.sif[vlookup[w].index]*vectors[w]\n",
    "                count += 1\n",
    "        if count > 0:\n",
    "            v *= 1/count\n",
    "        output.append(v)\n",
    "    return np.vstack(output).astype(REAL)"
   ]
  },
  {
   "cell_type": "code",
   "execution_count": 9,
   "metadata": {},
   "outputs": [
    {
     "data": {
      "text/plain": [
       "True"
      ]
     },
     "execution_count": 9,
     "metadata": {},
     "output_type": "execute_result"
    }
   ],
   "source": [
    "np.allclose(sif_embeddings(sentences[:200], model), sif_embeddings_2(sentences[:200], model), atol=1e-6)"
   ]
  },
  {
   "cell_type": "code",
   "execution_count": 10,
   "metadata": {},
   "outputs": [
    {
     "name": "stdout",
     "output_type": "stream",
     "text": [
      "25.2 ms ± 680 µs per loop (mean ± std. dev. of 7 runs, 100 loops each)\n"
     ]
    }
   ],
   "source": [
    "%%timeit -n 100\n",
    "sif_embeddings_2(sentences[:200], model)"
   ]
  },
  {
   "cell_type": "code",
   "execution_count": 11,
   "metadata": {},
   "outputs": [],
   "source": [
    "def sif_embeddings_3(sentences, model, alpha=1e-3):\n",
    "    vlookup = model.wv.vocab\n",
    "    vectors = model.wv\n",
    "    \n",
    "    output = []\n",
    "    for s in sentences:\n",
    "        \n",
    "        idx = [vlookup[w].index for w in s if w in vlookup]\n",
    "        \n",
    "        v = np.sum(vectors.vectors[idx] * vectors.sif[idx][:, None], axis=0)\n",
    "        if len(idx) > 0:\n",
    "            v *= 1/len(idx)\n",
    "        output.append(v)\n",
    "    return np.vstack(output).astype(REAL)"
   ]
  },
  {
   "cell_type": "code",
   "execution_count": 12,
   "metadata": {},
   "outputs": [
    {
     "data": {
      "text/plain": [
       "True"
      ]
     },
     "execution_count": 12,
     "metadata": {},
     "output_type": "execute_result"
    }
   ],
   "source": [
    "np.allclose(sif_embeddings(sentences[:200], model), sif_embeddings_3(sentences[:200], model), atol=1e-6)"
   ]
  },
  {
   "cell_type": "code",
   "execution_count": 13,
   "metadata": {},
   "outputs": [
    {
     "name": "stdout",
     "output_type": "stream",
     "text": [
      "6.67 ms ± 799 µs per loop (mean ± std. dev. of 7 runs, 1000 loops each)\n"
     ]
    }
   ],
   "source": [
    "%%timeit -n 1000\n",
    "sif_embeddings_3(sentences[:200], model)"
   ]
  },
  {
   "cell_type": "code",
   "execution_count": 14,
   "metadata": {},
   "outputs": [],
   "source": [
    "model.wv.sif_vectors = model.wv.vectors * model.wv.sif[:, None]\n",
    "\n",
    "def sif_embeddings_4(sentences, model):\n",
    "    vlookup = model.wv.vocab\n",
    "    vectors = model.wv.sif_vectors\n",
    "    \n",
    "    output = []\n",
    "    for s in sentences:\n",
    "        idx = [vlookup[w].index for w in s if w in vlookup]\n",
    "        v = np.sum(vectors[idx], axis=0)\n",
    "        if len(idx) > 0:\n",
    "            v *= 1/len(idx)\n",
    "        output.append(v)\n",
    "    return np.vstack(output).astype(REAL)"
   ]
  },
  {
   "cell_type": "code",
   "execution_count": 15,
   "metadata": {},
   "outputs": [
    {
     "data": {
      "text/plain": [
       "True"
      ]
     },
     "execution_count": 15,
     "metadata": {},
     "output_type": "execute_result"
    }
   ],
   "source": [
    "np.allclose(sif_embeddings(sentences[:200], model), sif_embeddings_4(sentences[:200], model), atol=1e-6)"
   ]
  },
  {
   "cell_type": "code",
   "execution_count": 16,
   "metadata": {},
   "outputs": [
    {
     "name": "stdout",
     "output_type": "stream",
     "text": [
      "4.72 ms ± 241 µs per loop (mean ± std. dev. of 7 runs, 1000 loops each)\n"
     ]
    }
   ],
   "source": [
    "%%timeit -n 1000\n",
    "sif_embeddings_4(sentences[:200], model)"
   ]
  },
  {
   "cell_type": "code",
   "execution_count": 17,
   "metadata": {},
   "outputs": [],
   "source": [
    "def sif_embeddings_5(sentences, model):\n",
    "    vlookup = model.wv.vocab\n",
    "    vectors = model.wv.sif_vectors\n",
    "    \n",
    "    output = np.zeros(shape=(len(sentences), model.vector_size))\n",
    "    \n",
    "    for i in range(len(sentences)):\n",
    "        idx = [vlookup[w].index for w in sentences[i] if w in vlookup]\n",
    "        output[i] = np.sum(vectors[idx], axis=0) * ( (1/len(idx)) if len(idx)>0 else 1)\n",
    "    return output.astype(REAL)"
   ]
  },
  {
   "cell_type": "code",
   "execution_count": 18,
   "metadata": {},
   "outputs": [
    {
     "data": {
      "text/plain": [
       "True"
      ]
     },
     "execution_count": 18,
     "metadata": {},
     "output_type": "execute_result"
    }
   ],
   "source": [
    "np.allclose(sif_embeddings(sentences[:200], model), sif_embeddings_5(sentences[:200], model), atol=1e-6)"
   ]
  },
  {
   "cell_type": "code",
   "execution_count": 19,
   "metadata": {},
   "outputs": [
    {
     "name": "stdout",
     "output_type": "stream",
     "text": [
      "4.02 ms ± 185 µs per loop (mean ± std. dev. of 7 runs, 1000 loops each)\n"
     ]
    }
   ],
   "source": [
    "%%timeit -n 1000\n",
    "sif_embeddings_5(sentences[:200], model)"
   ]
  },
  {
   "cell_type": "markdown",
   "metadata": {},
   "source": [
    "# Convert sentence to list of numbers"
   ]
  },
  {
   "cell_type": "code",
   "execution_count": 1,
   "metadata": {},
   "outputs": [
    {
     "ename": "NameError",
     "evalue": "name 'sentences' is not defined",
     "output_type": "error",
     "traceback": [
      "\u001b[0;31m---------------------------------------------------------------------------\u001b[0m",
      "\u001b[0;31mNameError\u001b[0m                                 Traceback (most recent call last)",
      "\u001b[0;32m<ipython-input-1-cc1c18e1a01b>\u001b[0m in \u001b[0;36m<module>\u001b[0;34m\u001b[0m\n\u001b[0;32m----> 1\u001b[0;31m \u001b[0msentences_idx\u001b[0m \u001b[0;34m=\u001b[0m \u001b[0;34m[\u001b[0m\u001b[0mnp\u001b[0m\u001b[0;34m.\u001b[0m\u001b[0masarray\u001b[0m\u001b[0;34m(\u001b[0m\u001b[0;34m[\u001b[0m\u001b[0mmodel\u001b[0m\u001b[0;34m.\u001b[0m\u001b[0mwv\u001b[0m\u001b[0;34m.\u001b[0m\u001b[0mvocab\u001b[0m\u001b[0;34m[\u001b[0m\u001b[0mw\u001b[0m\u001b[0;34m]\u001b[0m\u001b[0;34m.\u001b[0m\u001b[0mindex\u001b[0m \u001b[0;32mfor\u001b[0m \u001b[0mw\u001b[0m \u001b[0;32min\u001b[0m \u001b[0ms\u001b[0m \u001b[0;32mif\u001b[0m \u001b[0mw\u001b[0m \u001b[0;32min\u001b[0m \u001b[0mmodel\u001b[0m\u001b[0;34m.\u001b[0m\u001b[0mwv\u001b[0m\u001b[0;34m.\u001b[0m\u001b[0mvocab\u001b[0m\u001b[0;34m]\u001b[0m\u001b[0;34m,\u001b[0m \u001b[0mdtype\u001b[0m\u001b[0;34m=\u001b[0m\u001b[0mnp\u001b[0m\u001b[0;34m.\u001b[0m\u001b[0mintc\u001b[0m\u001b[0;34m)\u001b[0m \u001b[0;32mfor\u001b[0m \u001b[0ms\u001b[0m \u001b[0;32min\u001b[0m \u001b[0msentences\u001b[0m\u001b[0;34m]\u001b[0m\u001b[0;34m\u001b[0m\u001b[0;34m\u001b[0m\u001b[0m\n\u001b[0m",
      "\u001b[0;31mNameError\u001b[0m: name 'sentences' is not defined"
     ]
    }
   ],
   "source": [
    "sentences_idx = [np.asarray([model.wv.vocab[w].index for w in s if w in model.wv.vocab], dtype=np.intc) for s in sentences]"
   ]
  },
  {
   "cell_type": "code",
   "execution_count": 21,
   "metadata": {},
   "outputs": [],
   "source": [
    "def sif_embeddings_6(sentences, model):\n",
    "    vectors = model.wv.sif_vectors\n",
    "    output = np.zeros(shape=(len(sentences), model.vector_size), dtype=REAL)\n",
    "    \n",
    "    for i,s in enumerate(sentences):\n",
    "        output[i] = np.sum(vectors[s], axis=0) * ( (1/len(s)) if len(s)>0 else 1)\n",
    "    return output.astype(REAL)"
   ]
  },
  {
   "cell_type": "code",
   "execution_count": 22,
   "metadata": {},
   "outputs": [
    {
     "data": {
      "text/plain": [
       "True"
      ]
     },
     "execution_count": 22,
     "metadata": {},
     "output_type": "execute_result"
    }
   ],
   "source": [
    "np.allclose(sif_embeddings(sentences[:200], model), sif_embeddings_6(sentences_idx[:200], model), atol=1e-6)"
   ]
  },
  {
   "cell_type": "code",
   "execution_count": 23,
   "metadata": {},
   "outputs": [
    {
     "name": "stdout",
     "output_type": "stream",
     "text": [
      "2.21 ms ± 11.4 µs per loop (mean ± std. dev. of 7 runs, 1000 loops each)\n"
     ]
    }
   ],
   "source": [
    "%%timeit -n 1000\n",
    "sif_embeddings_6(sentences_idx[:200], model)"
   ]
  },
  {
   "cell_type": "code",
   "execution_count": 24,
   "metadata": {},
   "outputs": [],
   "source": [
    "%%cython\n",
    "import numpy as np\n",
    "cimport numpy as np\n",
    "import cython\n",
    "\n",
    "def sif_embeddings_7(sentences, model):\n",
    "    cdef int size = model.vector_size\n",
    "    cdef float[:,:] vectors = model.wv.sif_vectors\n",
    "\n",
    "    cdef int sentence_index, word_index, d, count = 0\n",
    "    cdef float inv = 1.\n",
    "    np_sum = np.sum\n",
    "    \n",
    "    output = np.zeros((len(sentences), size), dtype=np.float32)   \n",
    "    cdef float[:,:] sv = output\n",
    "    \n",
    "    for sentence_index, sentence in enumerate(sentences):\n",
    "        if len(sentence) > 0:\n",
    "            count = 0\n",
    "            for word_index in sentence:\n",
    "                count += 1\n",
    "                for d in range(size):\n",
    "                    sv[sentence_index, d] += vectors[word_index, d]\n",
    "\n",
    "            inv = (1./ <float>count)\n",
    "            for d in range(size):\n",
    "                sv[sentence_index, d] *= inv\n",
    "    return output"
   ]
  },
  {
   "cell_type": "code",
   "execution_count": 25,
   "metadata": {},
   "outputs": [
    {
     "data": {
      "text/plain": [
       "True"
      ]
     },
     "execution_count": 25,
     "metadata": {},
     "output_type": "execute_result"
    }
   ],
   "source": [
    "np.allclose(sif_embeddings(sentences[:200], model), sif_embeddings_7(sentences_idx[:200], model), atol=1e-6)"
   ]
  },
  {
   "cell_type": "code",
   "execution_count": 26,
   "metadata": {},
   "outputs": [
    {
     "name": "stdout",
     "output_type": "stream",
     "text": [
      "594 µs ± 3.29 µs per loop (mean ± std. dev. of 7 runs, 1000 loops each)\n"
     ]
    }
   ],
   "source": [
    "%%timeit -n 1000\n",
    "sif_embeddings_7(sentences_idx[:200], model)"
   ]
  },
  {
   "cell_type": "code",
   "execution_count": 27,
   "metadata": {},
   "outputs": [],
   "source": [
    "%%cython\n",
    "import numpy as np\n",
    "cimport numpy as np\n",
    "import cython\n",
    "\n",
    "@cython.boundscheck(False)\n",
    "@cython.wraparound(False)\n",
    "def sif_embeddings_8(sentences, model):\n",
    "    cdef int size = model.vector_size\n",
    "    cdef float[:,:] vectors = model.wv.sif_vectors\n",
    "\n",
    "    cdef int sentence_index, word_index, d, count = 0\n",
    "    cdef float inv = 1.\n",
    "    np_sum = np.sum\n",
    "    \n",
    "    output = np.zeros((len(sentences), size), dtype=np.float32)   \n",
    "    cdef float[:,:] sv = output\n",
    "    \n",
    "    for sentence_index, sentence in enumerate(sentences):\n",
    "        if len(sentence) > 0:\n",
    "            count = 0\n",
    "            for word_index in sentence:\n",
    "                count += 1\n",
    "                for d in range(size):\n",
    "                    sv[sentence_index, d] += vectors[word_index, d]\n",
    "\n",
    "            inv = (1./ <float>count)\n",
    "            for d in range(size):\n",
    "                sv[sentence_index, d] *= inv\n",
    "    return output"
   ]
  },
  {
   "cell_type": "code",
   "execution_count": 28,
   "metadata": {},
   "outputs": [
    {
     "data": {
      "text/plain": [
       "True"
      ]
     },
     "execution_count": 28,
     "metadata": {},
     "output_type": "execute_result"
    }
   ],
   "source": [
    "np.allclose(sif_embeddings(sentences[:200], model), sif_embeddings_8(sentences_idx[:200], model), atol=1e-6)"
   ]
  },
  {
   "cell_type": "code",
   "execution_count": 29,
   "metadata": {},
   "outputs": [
    {
     "name": "stdout",
     "output_type": "stream",
     "text": [
      "526 µs ± 10.9 µs per loop (mean ± std. dev. of 7 runs, 1000 loops each)\n"
     ]
    }
   ],
   "source": [
    "%%timeit -n 1000\n",
    "sif_embeddings_8(sentences_idx[:200], model)"
   ]
  },
  {
   "cell_type": "code",
   "execution_count": 30,
   "metadata": {},
   "outputs": [],
   "source": [
    "%%cython\n",
    "import numpy as np\n",
    "cimport numpy as np\n",
    "import cython\n",
    "\n",
    "@cython.boundscheck(False)\n",
    "@cython.wraparound(False)\n",
    "def sif_embeddings_9(sentences, model):\n",
    "    cdef int size = model.vector_size\n",
    "    cdef float[:,:] vectors = model.wv.sif_vectors\n",
    "\n",
    "    np_sum = np.sum\n",
    "    np_asarray = np.asarray\n",
    "    \n",
    "    output = np.zeros((len(sentences), size), dtype=np.float32)   \n",
    "    cdef float[:,:] sv = output\n",
    "    \n",
    "    cdef int[:] sentence_view\n",
    "    cdef int sentence_len\n",
    "    \n",
    "    \n",
    "    for i in xrange(len(sentences)):\n",
    "        if len(sentences[i]) > 0:\n",
    "            sentence_view = sentences[i]\n",
    "            sentence_len = len(sentences[i])\n",
    "            sif_embeddings_9_cloop(size, sentence_view, sentence_len, i, vectors, sv)\n",
    "        \n",
    "    return output\n",
    "\n",
    "@cython.boundscheck(False)\n",
    "@cython.wraparound(False)\n",
    "cdef void sif_embeddings_9_cloop(int size, int[:] sentence_view, int sentence_len, int sentence_idx, float[:,:] vectors, float[:,:] summary_vectors) nogil:\n",
    "    cdef int i,d, word_index, count = 0\n",
    "    cdef float inv = 1.\n",
    "    \n",
    "    for i in xrange(sentence_len):\n",
    "        word_index = sentence_view[i]\n",
    "        count += 1\n",
    "        for d in xrange(size):\n",
    "            summary_vectors[sentence_idx, d] += vectors[word_index, d]\n",
    "    \n",
    "    inv = (1./ <float>count)\n",
    "    for d in xrange(size):\n",
    "        summary_vectors[sentence_idx, d] *= inv"
   ]
  },
  {
   "cell_type": "code",
   "execution_count": 31,
   "metadata": {},
   "outputs": [
    {
     "data": {
      "text/plain": [
       "True"
      ]
     },
     "execution_count": 31,
     "metadata": {},
     "output_type": "execute_result"
    }
   ],
   "source": [
    "np.allclose(sif_embeddings(sentences[:200], model), sif_embeddings_9(sentences_idx[:200], model), atol=1e-6)"
   ]
  },
  {
   "cell_type": "code",
   "execution_count": 32,
   "metadata": {},
   "outputs": [
    {
     "name": "stdout",
     "output_type": "stream",
     "text": [
      "303 µs ± 11.2 µs per loop (mean ± std. dev. of 7 runs, 1000 loops each)\n"
     ]
    }
   ],
   "source": [
    "%%timeit -n 1000\n",
    "sif_embeddings_9(sentences_idx[:200], model)"
   ]
  },
  {
   "cell_type": "code",
   "execution_count": 9,
   "metadata": {},
   "outputs": [
    {
     "ename": "CompileError",
     "evalue": "command 'gcc' failed with exit status 1",
     "output_type": "error",
     "traceback": [
      "\u001b[0;31m---------------------------------------------------------------------------\u001b[0m",
      "\u001b[0;31mDistutilsExecError\u001b[0m                        Traceback (most recent call last)",
      "\u001b[0;32m//anaconda/envs/TF2/lib/python3.6/distutils/unixccompiler.py\u001b[0m in \u001b[0;36m_compile\u001b[0;34m(self, obj, src, ext, cc_args, extra_postargs, pp_opts)\u001b[0m\n\u001b[1;32m    117\u001b[0m             self.spawn(compiler_so + cc_args + [src, '-o', obj] +\n\u001b[0;32m--> 118\u001b[0;31m                        extra_postargs)\n\u001b[0m\u001b[1;32m    119\u001b[0m         \u001b[0;32mexcept\u001b[0m \u001b[0mDistutilsExecError\u001b[0m \u001b[0;32mas\u001b[0m \u001b[0mmsg\u001b[0m\u001b[0;34m:\u001b[0m\u001b[0;34m\u001b[0m\u001b[0;34m\u001b[0m\u001b[0m\n",
      "\u001b[0;32m//anaconda/envs/TF2/lib/python3.6/distutils/ccompiler.py\u001b[0m in \u001b[0;36mspawn\u001b[0;34m(self, cmd)\u001b[0m\n\u001b[1;32m    908\u001b[0m     \u001b[0;32mdef\u001b[0m \u001b[0mspawn\u001b[0m\u001b[0;34m(\u001b[0m\u001b[0mself\u001b[0m\u001b[0;34m,\u001b[0m \u001b[0mcmd\u001b[0m\u001b[0;34m)\u001b[0m\u001b[0;34m:\u001b[0m\u001b[0;34m\u001b[0m\u001b[0;34m\u001b[0m\u001b[0m\n\u001b[0;32m--> 909\u001b[0;31m         \u001b[0mspawn\u001b[0m\u001b[0;34m(\u001b[0m\u001b[0mcmd\u001b[0m\u001b[0;34m,\u001b[0m \u001b[0mdry_run\u001b[0m\u001b[0;34m=\u001b[0m\u001b[0mself\u001b[0m\u001b[0;34m.\u001b[0m\u001b[0mdry_run\u001b[0m\u001b[0;34m)\u001b[0m\u001b[0;34m\u001b[0m\u001b[0;34m\u001b[0m\u001b[0m\n\u001b[0m\u001b[1;32m    910\u001b[0m \u001b[0;34m\u001b[0m\u001b[0m\n",
      "\u001b[0;32m//anaconda/envs/TF2/lib/python3.6/distutils/spawn.py\u001b[0m in \u001b[0;36mspawn\u001b[0;34m(cmd, search_path, verbose, dry_run)\u001b[0m\n\u001b[1;32m     35\u001b[0m     \u001b[0;32mif\u001b[0m \u001b[0mos\u001b[0m\u001b[0;34m.\u001b[0m\u001b[0mname\u001b[0m \u001b[0;34m==\u001b[0m \u001b[0;34m'posix'\u001b[0m\u001b[0;34m:\u001b[0m\u001b[0;34m\u001b[0m\u001b[0;34m\u001b[0m\u001b[0m\n\u001b[0;32m---> 36\u001b[0;31m         \u001b[0m_spawn_posix\u001b[0m\u001b[0;34m(\u001b[0m\u001b[0mcmd\u001b[0m\u001b[0;34m,\u001b[0m \u001b[0msearch_path\u001b[0m\u001b[0;34m,\u001b[0m \u001b[0mdry_run\u001b[0m\u001b[0;34m=\u001b[0m\u001b[0mdry_run\u001b[0m\u001b[0;34m)\u001b[0m\u001b[0;34m\u001b[0m\u001b[0;34m\u001b[0m\u001b[0m\n\u001b[0m\u001b[1;32m     37\u001b[0m     \u001b[0;32melif\u001b[0m \u001b[0mos\u001b[0m\u001b[0;34m.\u001b[0m\u001b[0mname\u001b[0m \u001b[0;34m==\u001b[0m \u001b[0;34m'nt'\u001b[0m\u001b[0;34m:\u001b[0m\u001b[0;34m\u001b[0m\u001b[0;34m\u001b[0m\u001b[0m\n",
      "\u001b[0;32m//anaconda/envs/TF2/lib/python3.6/distutils/spawn.py\u001b[0m in \u001b[0;36m_spawn_posix\u001b[0;34m(cmd, search_path, verbose, dry_run)\u001b[0m\n\u001b[1;32m    158\u001b[0m                           \u001b[0;34m\"command %r failed with exit status %d\"\u001b[0m\u001b[0;34m\u001b[0m\u001b[0;34m\u001b[0m\u001b[0m\n\u001b[0;32m--> 159\u001b[0;31m                           % (cmd, exit_status))\n\u001b[0m\u001b[1;32m    160\u001b[0m             \u001b[0;32melif\u001b[0m \u001b[0mos\u001b[0m\u001b[0;34m.\u001b[0m\u001b[0mWIFSTOPPED\u001b[0m\u001b[0;34m(\u001b[0m\u001b[0mstatus\u001b[0m\u001b[0;34m)\u001b[0m\u001b[0;34m:\u001b[0m\u001b[0;34m\u001b[0m\u001b[0;34m\u001b[0m\u001b[0m\n",
      "\u001b[0;31mDistutilsExecError\u001b[0m: command 'gcc' failed with exit status 1",
      "\nDuring handling of the above exception, another exception occurred:\n",
      "\u001b[0;31mCompileError\u001b[0m                              Traceback (most recent call last)",
      "\u001b[0;32m<ipython-input-9-0bdeb64a383e>\u001b[0m in \u001b[0;36m<module>\u001b[0;34m\u001b[0m\n\u001b[0;32m----> 1\u001b[0;31m \u001b[0mget_ipython\u001b[0m\u001b[0;34m(\u001b[0m\u001b[0;34m)\u001b[0m\u001b[0;34m.\u001b[0m\u001b[0mrun_cell_magic\u001b[0m\u001b[0;34m(\u001b[0m\u001b[0;34m'cython'\u001b[0m\u001b[0;34m,\u001b[0m \u001b[0;34m''\u001b[0m\u001b[0;34m,\u001b[0m \u001b[0;34m'\\nimport os\\n\\ncdef str path = str(os.path.abspath(os.curdir)+\"/\")\\n\\ncdef extern from \"voidptr.h\":\\n    void* PyCObject_AsVoidPtr(object obj)\\n\\nimport numpy as np\\ncimport numpy as np\\nimport cython\\n\\nimport scipy.linalg.blas as fblas\\n\\nctypedef np.float32_t REAL_t\\nctypedef np.int32_t INT_t\\n\\nctypedef void (*saxpy_ptr) (const int *N, const float *alpha, const float *X, const int *incX, float *Y, const int *incY) nogil\\ncdef saxpy_ptr saxpy=<saxpy_ptr>PyCObject_AsVoidPtr(fblas.saxpy._cpointer)\\n\\nctypedef void (*sscal_ptr) (const int *N, const float *alpha, const float *X, const int *incX) nogil\\ncdef sscal_ptr sscal=<sscal_ptr>PyCObject_AsVoidPtr(fblas.sscal._cpointer)\\n\\ncdef REAL_t ONEF = <REAL_t>1.0\\ncdef int ONE = 1\\n\\n@cython.boundscheck(False)\\n@cython.wraparound(False)\\ndef sif_embeddings_10(sentences, model):\\n    cdef int size = model.vector_size\\n    cdef REAL_t *vectors = <REAL_t *>(np.PyArray_DATA(model.wv.sif_vectors))\\n    \\n    output = np.zeros((len(sentences), size), dtype=np.float32)   \\n    cdef REAL_t *sv = <REAL_t *>(np.PyArray_DATA(output))\\n    \\n    cdef INT_t *sentence_view\\n    \\n    for i in xrange(len(sentences)):\\n        if len(sentences[i]):\\n            sentence_view = <INT_t *>(np.PyArray_DATA(sentences[i]))\\n            sentence_len = len(sentences[i])\\n            sif_embeddings_10_cloop(size, sentence_view, sentence_len, i, vectors, sv)\\n    return output\\n\\n@cython.boundscheck(False)\\n@cython.wraparound(False)\\ncdef void sif_embeddings_10_cloop(const int size, const INT_t *sentence_view, const int sentence_len, \\n                                   const int sentence_idx, const REAL_t *vectors, REAL_t *summary_vectors) nogil:\\n    \\n    cdef int i,d, word_index\\n    cdef REAL_t inv = ONEF, count = <REAL_t> 0.\\n    \\n    for i in xrange(sentence_len):\\n        count += ONEF\\n        word_index = sentence_view[i]\\n        saxpy(&size, &ONEF, &vectors[word_index * size], &ONE, &summary_vectors[sentence_idx * size], &ONE)\\n        \\n    inv = ONEF / count\\n    sscal(&size, &inv, &summary_vectors[sentence_idx * size], &ONE)\\n'\u001b[0m\u001b[0;34m)\u001b[0m\u001b[0;34m\u001b[0m\u001b[0;34m\u001b[0m\u001b[0m\n\u001b[0m",
      "\u001b[0;32m//anaconda/envs/TF2/lib/python3.6/site-packages/IPython/core/interactiveshell.py\u001b[0m in \u001b[0;36mrun_cell_magic\u001b[0;34m(self, magic_name, line, cell)\u001b[0m\n\u001b[1;32m   2350\u001b[0m             \u001b[0;32mwith\u001b[0m \u001b[0mself\u001b[0m\u001b[0;34m.\u001b[0m\u001b[0mbuiltin_trap\u001b[0m\u001b[0;34m:\u001b[0m\u001b[0;34m\u001b[0m\u001b[0;34m\u001b[0m\u001b[0m\n\u001b[1;32m   2351\u001b[0m                 \u001b[0margs\u001b[0m \u001b[0;34m=\u001b[0m \u001b[0;34m(\u001b[0m\u001b[0mmagic_arg_s\u001b[0m\u001b[0;34m,\u001b[0m \u001b[0mcell\u001b[0m\u001b[0;34m)\u001b[0m\u001b[0;34m\u001b[0m\u001b[0;34m\u001b[0m\u001b[0m\n\u001b[0;32m-> 2352\u001b[0;31m                 \u001b[0mresult\u001b[0m \u001b[0;34m=\u001b[0m \u001b[0mfn\u001b[0m\u001b[0;34m(\u001b[0m\u001b[0;34m*\u001b[0m\u001b[0margs\u001b[0m\u001b[0;34m,\u001b[0m \u001b[0;34m**\u001b[0m\u001b[0mkwargs\u001b[0m\u001b[0;34m)\u001b[0m\u001b[0;34m\u001b[0m\u001b[0;34m\u001b[0m\u001b[0m\n\u001b[0m\u001b[1;32m   2353\u001b[0m             \u001b[0;32mreturn\u001b[0m \u001b[0mresult\u001b[0m\u001b[0;34m\u001b[0m\u001b[0;34m\u001b[0m\u001b[0m\n\u001b[1;32m   2354\u001b[0m \u001b[0;34m\u001b[0m\u001b[0m\n",
      "\u001b[0;32m<//anaconda/envs/TF2/lib/python3.6/site-packages/decorator.py:decorator-gen-128>\u001b[0m in \u001b[0;36mcython\u001b[0;34m(self, line, cell)\u001b[0m\n",
      "\u001b[0;32m//anaconda/envs/TF2/lib/python3.6/site-packages/IPython/core/magic.py\u001b[0m in \u001b[0;36m<lambda>\u001b[0;34m(f, *a, **k)\u001b[0m\n\u001b[1;32m    185\u001b[0m     \u001b[0;31m# but it's overkill for just that one bit of state.\u001b[0m\u001b[0;34m\u001b[0m\u001b[0;34m\u001b[0m\u001b[0;34m\u001b[0m\u001b[0m\n\u001b[1;32m    186\u001b[0m     \u001b[0;32mdef\u001b[0m \u001b[0mmagic_deco\u001b[0m\u001b[0;34m(\u001b[0m\u001b[0marg\u001b[0m\u001b[0;34m)\u001b[0m\u001b[0;34m:\u001b[0m\u001b[0;34m\u001b[0m\u001b[0;34m\u001b[0m\u001b[0m\n\u001b[0;32m--> 187\u001b[0;31m         \u001b[0mcall\u001b[0m \u001b[0;34m=\u001b[0m \u001b[0;32mlambda\u001b[0m \u001b[0mf\u001b[0m\u001b[0;34m,\u001b[0m \u001b[0;34m*\u001b[0m\u001b[0ma\u001b[0m\u001b[0;34m,\u001b[0m \u001b[0;34m**\u001b[0m\u001b[0mk\u001b[0m\u001b[0;34m:\u001b[0m \u001b[0mf\u001b[0m\u001b[0;34m(\u001b[0m\u001b[0;34m*\u001b[0m\u001b[0ma\u001b[0m\u001b[0;34m,\u001b[0m \u001b[0;34m**\u001b[0m\u001b[0mk\u001b[0m\u001b[0;34m)\u001b[0m\u001b[0;34m\u001b[0m\u001b[0;34m\u001b[0m\u001b[0m\n\u001b[0m\u001b[1;32m    188\u001b[0m \u001b[0;34m\u001b[0m\u001b[0m\n\u001b[1;32m    189\u001b[0m         \u001b[0;32mif\u001b[0m \u001b[0mcallable\u001b[0m\u001b[0;34m(\u001b[0m\u001b[0marg\u001b[0m\u001b[0;34m)\u001b[0m\u001b[0;34m:\u001b[0m\u001b[0;34m\u001b[0m\u001b[0;34m\u001b[0m\u001b[0m\n",
      "\u001b[0;32m//anaconda/envs/TF2/lib/python3.6/site-packages/Cython/Build/IpythonMagic.py\u001b[0m in \u001b[0;36mcython\u001b[0;34m(self, line, cell)\u001b[0m\n\u001b[1;32m    327\u001b[0m \u001b[0;34m\u001b[0m\u001b[0m\n\u001b[1;32m    328\u001b[0m         self._build_extension(extension, lib_dir, pgo_step_name='use' if args.pgo else None,\n\u001b[0;32m--> 329\u001b[0;31m                               quiet=args.quiet)\n\u001b[0m\u001b[1;32m    330\u001b[0m \u001b[0;34m\u001b[0m\u001b[0m\n\u001b[1;32m    331\u001b[0m         \u001b[0mmodule\u001b[0m \u001b[0;34m=\u001b[0m \u001b[0mimp\u001b[0m\u001b[0;34m.\u001b[0m\u001b[0mload_dynamic\u001b[0m\u001b[0;34m(\u001b[0m\u001b[0mmodule_name\u001b[0m\u001b[0;34m,\u001b[0m \u001b[0mmodule_path\u001b[0m\u001b[0;34m)\u001b[0m\u001b[0;34m\u001b[0m\u001b[0;34m\u001b[0m\u001b[0m\n",
      "\u001b[0;32m//anaconda/envs/TF2/lib/python3.6/site-packages/Cython/Build/IpythonMagic.py\u001b[0m in \u001b[0;36m_build_extension\u001b[0;34m(self, extension, lib_dir, temp_dir, pgo_step_name, quiet)\u001b[0m\n\u001b[1;32m    437\u001b[0m             \u001b[0;32mif\u001b[0m \u001b[0;32mnot\u001b[0m \u001b[0mquiet\u001b[0m\u001b[0;34m:\u001b[0m\u001b[0;34m\u001b[0m\u001b[0;34m\u001b[0m\u001b[0m\n\u001b[1;32m    438\u001b[0m                 \u001b[0mold_threshold\u001b[0m \u001b[0;34m=\u001b[0m \u001b[0mdistutils\u001b[0m\u001b[0;34m.\u001b[0m\u001b[0mlog\u001b[0m\u001b[0;34m.\u001b[0m\u001b[0mset_threshold\u001b[0m\u001b[0;34m(\u001b[0m\u001b[0mdistutils\u001b[0m\u001b[0;34m.\u001b[0m\u001b[0mlog\u001b[0m\u001b[0;34m.\u001b[0m\u001b[0mDEBUG\u001b[0m\u001b[0;34m)\u001b[0m\u001b[0;34m\u001b[0m\u001b[0;34m\u001b[0m\u001b[0m\n\u001b[0;32m--> 439\u001b[0;31m             \u001b[0mbuild_extension\u001b[0m\u001b[0;34m.\u001b[0m\u001b[0mrun\u001b[0m\u001b[0;34m(\u001b[0m\u001b[0;34m)\u001b[0m\u001b[0;34m\u001b[0m\u001b[0;34m\u001b[0m\u001b[0m\n\u001b[0m\u001b[1;32m    440\u001b[0m         \u001b[0;32mfinally\u001b[0m\u001b[0;34m:\u001b[0m\u001b[0;34m\u001b[0m\u001b[0;34m\u001b[0m\u001b[0m\n\u001b[1;32m    441\u001b[0m             \u001b[0;32mif\u001b[0m \u001b[0;32mnot\u001b[0m \u001b[0mquiet\u001b[0m \u001b[0;32mand\u001b[0m \u001b[0mold_threshold\u001b[0m \u001b[0;32mis\u001b[0m \u001b[0;32mnot\u001b[0m \u001b[0;32mNone\u001b[0m\u001b[0;34m:\u001b[0m\u001b[0;34m\u001b[0m\u001b[0;34m\u001b[0m\u001b[0m\n",
      "\u001b[0;32m//anaconda/envs/TF2/lib/python3.6/distutils/command/build_ext.py\u001b[0m in \u001b[0;36mrun\u001b[0;34m(self)\u001b[0m\n\u001b[1;32m    337\u001b[0m \u001b[0;34m\u001b[0m\u001b[0m\n\u001b[1;32m    338\u001b[0m         \u001b[0;31m# Now actually compile and link everything.\u001b[0m\u001b[0;34m\u001b[0m\u001b[0;34m\u001b[0m\u001b[0;34m\u001b[0m\u001b[0m\n\u001b[0;32m--> 339\u001b[0;31m         \u001b[0mself\u001b[0m\u001b[0;34m.\u001b[0m\u001b[0mbuild_extensions\u001b[0m\u001b[0;34m(\u001b[0m\u001b[0;34m)\u001b[0m\u001b[0;34m\u001b[0m\u001b[0;34m\u001b[0m\u001b[0m\n\u001b[0m\u001b[1;32m    340\u001b[0m \u001b[0;34m\u001b[0m\u001b[0m\n\u001b[1;32m    341\u001b[0m     \u001b[0;32mdef\u001b[0m \u001b[0mcheck_extensions_list\u001b[0m\u001b[0;34m(\u001b[0m\u001b[0mself\u001b[0m\u001b[0;34m,\u001b[0m \u001b[0mextensions\u001b[0m\u001b[0;34m)\u001b[0m\u001b[0;34m:\u001b[0m\u001b[0;34m\u001b[0m\u001b[0;34m\u001b[0m\u001b[0m\n",
      "\u001b[0;32m//anaconda/envs/TF2/lib/python3.6/distutils/command/build_ext.py\u001b[0m in \u001b[0;36mbuild_extensions\u001b[0;34m(self)\u001b[0m\n\u001b[1;32m    446\u001b[0m             \u001b[0mself\u001b[0m\u001b[0;34m.\u001b[0m\u001b[0m_build_extensions_parallel\u001b[0m\u001b[0;34m(\u001b[0m\u001b[0;34m)\u001b[0m\u001b[0;34m\u001b[0m\u001b[0;34m\u001b[0m\u001b[0m\n\u001b[1;32m    447\u001b[0m         \u001b[0;32melse\u001b[0m\u001b[0;34m:\u001b[0m\u001b[0;34m\u001b[0m\u001b[0;34m\u001b[0m\u001b[0m\n\u001b[0;32m--> 448\u001b[0;31m             \u001b[0mself\u001b[0m\u001b[0;34m.\u001b[0m\u001b[0m_build_extensions_serial\u001b[0m\u001b[0;34m(\u001b[0m\u001b[0;34m)\u001b[0m\u001b[0;34m\u001b[0m\u001b[0;34m\u001b[0m\u001b[0m\n\u001b[0m\u001b[1;32m    449\u001b[0m \u001b[0;34m\u001b[0m\u001b[0m\n\u001b[1;32m    450\u001b[0m     \u001b[0;32mdef\u001b[0m \u001b[0m_build_extensions_parallel\u001b[0m\u001b[0;34m(\u001b[0m\u001b[0mself\u001b[0m\u001b[0;34m)\u001b[0m\u001b[0;34m:\u001b[0m\u001b[0;34m\u001b[0m\u001b[0;34m\u001b[0m\u001b[0m\n",
      "\u001b[0;32m//anaconda/envs/TF2/lib/python3.6/distutils/command/build_ext.py\u001b[0m in \u001b[0;36m_build_extensions_serial\u001b[0;34m(self)\u001b[0m\n\u001b[1;32m    471\u001b[0m         \u001b[0;32mfor\u001b[0m \u001b[0mext\u001b[0m \u001b[0;32min\u001b[0m \u001b[0mself\u001b[0m\u001b[0;34m.\u001b[0m\u001b[0mextensions\u001b[0m\u001b[0;34m:\u001b[0m\u001b[0;34m\u001b[0m\u001b[0;34m\u001b[0m\u001b[0m\n\u001b[1;32m    472\u001b[0m             \u001b[0;32mwith\u001b[0m \u001b[0mself\u001b[0m\u001b[0;34m.\u001b[0m\u001b[0m_filter_build_errors\u001b[0m\u001b[0;34m(\u001b[0m\u001b[0mext\u001b[0m\u001b[0;34m)\u001b[0m\u001b[0;34m:\u001b[0m\u001b[0;34m\u001b[0m\u001b[0;34m\u001b[0m\u001b[0m\n\u001b[0;32m--> 473\u001b[0;31m                 \u001b[0mself\u001b[0m\u001b[0;34m.\u001b[0m\u001b[0mbuild_extension\u001b[0m\u001b[0;34m(\u001b[0m\u001b[0mext\u001b[0m\u001b[0;34m)\u001b[0m\u001b[0;34m\u001b[0m\u001b[0;34m\u001b[0m\u001b[0m\n\u001b[0m\u001b[1;32m    474\u001b[0m \u001b[0;34m\u001b[0m\u001b[0m\n\u001b[1;32m    475\u001b[0m     \u001b[0;34m@\u001b[0m\u001b[0mcontextlib\u001b[0m\u001b[0;34m.\u001b[0m\u001b[0mcontextmanager\u001b[0m\u001b[0;34m\u001b[0m\u001b[0;34m\u001b[0m\u001b[0m\n",
      "\u001b[0;32m//anaconda/envs/TF2/lib/python3.6/distutils/command/build_ext.py\u001b[0m in \u001b[0;36mbuild_extension\u001b[0;34m(self, ext)\u001b[0m\n\u001b[1;32m    531\u001b[0m                                          \u001b[0mdebug\u001b[0m\u001b[0;34m=\u001b[0m\u001b[0mself\u001b[0m\u001b[0;34m.\u001b[0m\u001b[0mdebug\u001b[0m\u001b[0;34m,\u001b[0m\u001b[0;34m\u001b[0m\u001b[0;34m\u001b[0m\u001b[0m\n\u001b[1;32m    532\u001b[0m                                          \u001b[0mextra_postargs\u001b[0m\u001b[0;34m=\u001b[0m\u001b[0mextra_args\u001b[0m\u001b[0;34m,\u001b[0m\u001b[0;34m\u001b[0m\u001b[0;34m\u001b[0m\u001b[0m\n\u001b[0;32m--> 533\u001b[0;31m                                          depends=ext.depends)\n\u001b[0m\u001b[1;32m    534\u001b[0m \u001b[0;34m\u001b[0m\u001b[0m\n\u001b[1;32m    535\u001b[0m         \u001b[0;31m# XXX outdated variable, kept here in case third-part code\u001b[0m\u001b[0;34m\u001b[0m\u001b[0;34m\u001b[0m\u001b[0;34m\u001b[0m\u001b[0m\n",
      "\u001b[0;32m//anaconda/envs/TF2/lib/python3.6/distutils/ccompiler.py\u001b[0m in \u001b[0;36mcompile\u001b[0;34m(self, sources, output_dir, macros, include_dirs, debug, extra_preargs, extra_postargs, depends)\u001b[0m\n\u001b[1;32m    572\u001b[0m             \u001b[0;32mexcept\u001b[0m \u001b[0mKeyError\u001b[0m\u001b[0;34m:\u001b[0m\u001b[0;34m\u001b[0m\u001b[0;34m\u001b[0m\u001b[0m\n\u001b[1;32m    573\u001b[0m                 \u001b[0;32mcontinue\u001b[0m\u001b[0;34m\u001b[0m\u001b[0;34m\u001b[0m\u001b[0m\n\u001b[0;32m--> 574\u001b[0;31m             \u001b[0mself\u001b[0m\u001b[0;34m.\u001b[0m\u001b[0m_compile\u001b[0m\u001b[0;34m(\u001b[0m\u001b[0mobj\u001b[0m\u001b[0;34m,\u001b[0m \u001b[0msrc\u001b[0m\u001b[0;34m,\u001b[0m \u001b[0mext\u001b[0m\u001b[0;34m,\u001b[0m \u001b[0mcc_args\u001b[0m\u001b[0;34m,\u001b[0m \u001b[0mextra_postargs\u001b[0m\u001b[0;34m,\u001b[0m \u001b[0mpp_opts\u001b[0m\u001b[0;34m)\u001b[0m\u001b[0;34m\u001b[0m\u001b[0;34m\u001b[0m\u001b[0m\n\u001b[0m\u001b[1;32m    575\u001b[0m \u001b[0;34m\u001b[0m\u001b[0m\n\u001b[1;32m    576\u001b[0m         \u001b[0;31m# Return *all* object filenames, not just the ones we just built.\u001b[0m\u001b[0;34m\u001b[0m\u001b[0;34m\u001b[0m\u001b[0;34m\u001b[0m\u001b[0m\n",
      "\u001b[0;32m//anaconda/envs/TF2/lib/python3.6/distutils/unixccompiler.py\u001b[0m in \u001b[0;36m_compile\u001b[0;34m(self, obj, src, ext, cc_args, extra_postargs, pp_opts)\u001b[0m\n\u001b[1;32m    118\u001b[0m                        extra_postargs)\n\u001b[1;32m    119\u001b[0m         \u001b[0;32mexcept\u001b[0m \u001b[0mDistutilsExecError\u001b[0m \u001b[0;32mas\u001b[0m \u001b[0mmsg\u001b[0m\u001b[0;34m:\u001b[0m\u001b[0;34m\u001b[0m\u001b[0;34m\u001b[0m\u001b[0m\n\u001b[0;32m--> 120\u001b[0;31m             \u001b[0;32mraise\u001b[0m \u001b[0mCompileError\u001b[0m\u001b[0;34m(\u001b[0m\u001b[0mmsg\u001b[0m\u001b[0;34m)\u001b[0m\u001b[0;34m\u001b[0m\u001b[0;34m\u001b[0m\u001b[0m\n\u001b[0m\u001b[1;32m    121\u001b[0m \u001b[0;34m\u001b[0m\u001b[0m\n\u001b[1;32m    122\u001b[0m     def create_static_lib(self, objects, output_libname,\n",
      "\u001b[0;31mCompileError\u001b[0m: command 'gcc' failed with exit status 1"
     ]
    }
   ],
   "source": [
    "%%cython\n",
    "\n",
    "cdef extern from \"voidptr.h\":\n",
    "    void* PyCObject_AsVoidPtr(object obj)\n",
    "\n",
    "import numpy as np\n",
    "cimport numpy as np\n",
    "import cython\n",
    "\n",
    "import scipy.linalg.blas as fblas\n",
    "\n",
    "ctypedef np.float32_t REAL_t\n",
    "ctypedef np.int32_t INT_t\n",
    "\n",
    "ctypedef void (*saxpy_ptr) (const int *N, const float *alpha, const float *X, const int *incX, float *Y, const int *incY) nogil\n",
    "cdef saxpy_ptr saxpy=<saxpy_ptr>PyCObject_AsVoidPtr(fblas.saxpy._cpointer)\n",
    "\n",
    "ctypedef void (*sscal_ptr) (const int *N, const float *alpha, const float *X, const int *incX) nogil\n",
    "cdef sscal_ptr sscal=<sscal_ptr>PyCObject_AsVoidPtr(fblas.sscal._cpointer)\n",
    "\n",
    "cdef REAL_t ONEF = <REAL_t>1.0\n",
    "cdef int ONE = 1\n",
    "\n",
    "@cython.boundscheck(False)\n",
    "@cython.wraparound(False)\n",
    "def sif_embeddings_10(sentences, model):\n",
    "    cdef int size = model.vector_size\n",
    "    cdef REAL_t *vectors = <REAL_t *>(np.PyArray_DATA(model.wv.sif_vectors))\n",
    "    \n",
    "    output = np.zeros((len(sentences), size), dtype=np.float32)   \n",
    "    cdef REAL_t *sv = <REAL_t *>(np.PyArray_DATA(output))\n",
    "    \n",
    "    cdef INT_t *sentence_view\n",
    "    \n",
    "    for i in xrange(len(sentences)):\n",
    "        if len(sentences[i]):\n",
    "            sentence_view = <INT_t *>(np.PyArray_DATA(sentences[i]))\n",
    "            sentence_len = len(sentences[i])\n",
    "            sif_embeddings_10_cloop(size, sentence_view, sentence_len, i, vectors, sv)\n",
    "    return output\n",
    "\n",
    "@cython.boundscheck(False)\n",
    "@cython.wraparound(False)\n",
    "cdef void sif_embeddings_10_cloop(const int size, const INT_t *sentence_view, const int sentence_len, \n",
    "                                   const int sentence_idx, const REAL_t *vectors, REAL_t *summary_vectors) nogil:\n",
    "    \n",
    "    cdef int i,d, word_index\n",
    "    cdef REAL_t inv = ONEF, count = <REAL_t> 0.\n",
    "    \n",
    "    for i in xrange(sentence_len):\n",
    "        count += ONEF\n",
    "        word_index = sentence_view[i]\n",
    "        saxpy(&size, &ONEF, &vectors[word_index * size], &ONE, &summary_vectors[sentence_idx * size], &ONE)\n",
    "        \n",
    "    inv = ONEF / count\n",
    "    sscal(&size, &inv, &summary_vectors[sentence_idx * size], &ONE)"
   ]
  },
  {
   "cell_type": "code",
   "execution_count": 34,
   "metadata": {},
   "outputs": [
    {
     "data": {
      "text/plain": [
       "True"
      ]
     },
     "execution_count": 34,
     "metadata": {},
     "output_type": "execute_result"
    }
   ],
   "source": [
    "np.allclose(sif_embeddings(sentences[:200], model), sif_embeddings_10(sentences_idx[:200], model), atol=1e-6)"
   ]
  },
  {
   "cell_type": "code",
   "execution_count": 35,
   "metadata": {},
   "outputs": [
    {
     "name": "stdout",
     "output_type": "stream",
     "text": [
      "124 µs ± 8.44 µs per loop (mean ± std. dev. of 7 runs, 1000 loops each)\n"
     ]
    }
   ],
   "source": [
    "%%timeit -n 1000\n",
    "sif_embeddings_10(sentences_idx[:200], model)"
   ]
  },
  {
   "cell_type": "code",
   "execution_count": 38,
   "metadata": {},
   "outputs": [
    {
     "name": "stdout",
     "output_type": "stream",
     "text": [
      "CPU times: user 6min 15s, sys: 925 ms, total: 6min 16s\n",
      "Wall time: 6min 17s\n"
     ]
    },
    {
     "data": {
      "text/plain": [
       "array([[ 0.13711028, -0.3364488 ,  0.21267296, ...,  0.0463994 ,\n",
       "        -0.13668068, -0.02847308],\n",
       "       [ 0.07414544, -0.297035  ,  0.09073199, ..., -0.0087327 ,\n",
       "        -0.083715  , -0.05233829],\n",
       "       [ 0.13163339, -0.33895665,  0.10850863, ..., -0.00495466,\n",
       "        -0.1570635 , -0.03875722],\n",
       "       ...,\n",
       "       [ 0.01167195, -0.29158774,  0.09907509, ..., -0.00638369,\n",
       "         0.0765533 , -0.06349101],\n",
       "       [-0.05498754, -0.14868212,  0.17586865, ..., -0.07050015,\n",
       "         0.02253566, -0.03000972],\n",
       "       [-0.03447687, -0.19199331,  0.15758486, ..., -0.02365185,\n",
       "         0.00581935,  0.05083567]], dtype=float32)"
      ]
     },
     "execution_count": 38,
     "metadata": {},
     "output_type": "execute_result"
    }
   ],
   "source": [
    "%%time\n",
    "sif_embeddings(sentences, model)"
   ]
  },
  {
   "cell_type": "code",
   "execution_count": 39,
   "metadata": {},
   "outputs": [
    {
     "name": "stdout",
     "output_type": "stream",
     "text": [
      "CPU times: user 238 ms, sys: 7.87 ms, total: 246 ms\n",
      "Wall time: 61.9 ms\n"
     ]
    },
    {
     "data": {
      "text/plain": [
       "array([[ 0.13711031, -0.3364488 ,  0.21267295, ...,  0.0463994 ,\n",
       "        -0.13668068, -0.02847308],\n",
       "       [ 0.07414544, -0.29703495,  0.09073199, ..., -0.0087327 ,\n",
       "        -0.08371499, -0.05233828],\n",
       "       [ 0.13163339, -0.33895662,  0.10850862, ..., -0.00495466,\n",
       "        -0.1570635 , -0.03875722],\n",
       "       ...,\n",
       "       [ 0.01167195, -0.29158774,  0.09907508, ..., -0.00638369,\n",
       "         0.07655329, -0.063491  ],\n",
       "       [-0.05498753, -0.14868212,  0.17586863, ..., -0.07050015,\n",
       "         0.02253566, -0.03000972],\n",
       "       [-0.03447687, -0.19199331,  0.15758485, ..., -0.02365185,\n",
       "         0.00581935,  0.05083568]], dtype=float32)"
      ]
     },
     "execution_count": 39,
     "metadata": {},
     "output_type": "execute_result"
    }
   ],
   "source": [
    "%%time\n",
    "sif_embeddings_10(sentences_idx, model)"
   ]
  },
  {
   "cell_type": "code",
   "execution_count": null,
   "metadata": {},
   "outputs": [],
   "source": []
  }
 ],
 "metadata": {
  "kernelspec": {
   "display_name": "Python 3",
   "language": "python",
   "name": "python3"
  },
  "language_info": {
   "codemirror_mode": {
    "name": "ipython",
    "version": 3
   },
   "file_extension": ".py",
   "mimetype": "text/x-python",
   "name": "python",
   "nbconvert_exporter": "python",
   "pygments_lexer": "ipython3",
   "version": "3.6.7"
  }
 },
 "nbformat": 4,
 "nbformat_minor": 2
}

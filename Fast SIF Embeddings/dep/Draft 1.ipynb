{
 "cells": [
  {
   "cell_type": "code",
   "execution_count": 1,
   "metadata": {},
   "outputs": [],
   "source": [
    "from gensim.models import Word2Vec\n",
    "import numpy as np\n",
    "from numba.decorators import jit, autojit\n",
    "import timeit\n",
    "from nltk.corpus import brown\n",
    "import cython\n",
    "from re import sub\n",
    "import psutil\n",
    "\n",
    "np.random.seed(42)\n",
    "\n",
    "REAL = np.float32"
   ]
  },
  {
   "cell_type": "code",
   "execution_count": 2,
   "metadata": {},
   "outputs": [],
   "source": [
    "%load_ext cython"
   ]
  },
  {
   "cell_type": "code",
   "execution_count": 3,
   "metadata": {},
   "outputs": [],
   "source": [
    "def normalize_text(sentences):\n",
    "    for i, s in enumerate(sentences):\n",
    "        sentences[i] = [sub(\"[^a-zA-Z]\", \"\", w.lower()) for w in s]"
   ]
  },
  {
   "cell_type": "code",
   "execution_count": 4,
   "metadata": {},
   "outputs": [],
   "source": [
    "sentences = [s for s in brown.sents()]\n",
    "normalize_text(sentences)"
   ]
  },
  {
   "cell_type": "code",
   "execution_count": 5,
   "metadata": {},
   "outputs": [
    {
     "data": {
      "text/plain": [
       "(7963167, 11611920)"
      ]
     },
     "execution_count": 5,
     "metadata": {},
     "output_type": "execute_result"
    }
   ],
   "source": [
    "model = Word2Vec(size=50, iter=10, workers=psutil.cpu_count(), sg=1, window=5, negative=5, min_count=1)\n",
    "model.build_vocab(sentences)\n",
    "model.train(sentences, epochs=model.epochs, total_examples=model.corpus_count)"
   ]
  },
  {
   "cell_type": "code",
   "execution_count": 9,
   "metadata": {},
   "outputs": [],
   "source": [
    "def compute_sif_weights(wv, sif_param=1e-3):\n",
    "        \"\"\"Pre-Compute the SIF weighting for the summation function\"\"\"\n",
    "        if sif_param > 0:\n",
    "            corpus_size = 0\n",
    "            wv.sif = np.zeros(shape=len(wv.vocab), dtype=REAL)\n",
    "\n",
    "            for k in wv.vocab:\n",
    "                corpus_size += wv.vocab[k].count\n",
    "\n",
    "            for idx, k in enumerate(wv.index2word):\n",
    "                pw = wv.vocab[k].count / corpus_size\n",
    "                wv.sif[idx] = sif_param / (sif_param+pw)\n",
    "        else:\n",
    "            wv.sif = np.ones(shape=len(wv.vocab), dtype=REAL)"
   ]
  },
  {
   "cell_type": "code",
   "execution_count": 10,
   "metadata": {},
   "outputs": [],
   "source": [
    "compute_sif_weights(model.wv)"
   ]
  },
  {
   "cell_type": "code",
   "execution_count": 38,
   "metadata": {},
   "outputs": [],
   "source": [
    "def sentence_summary(sentences, model):\n",
    "    vlookup = model.wv\n",
    "    np_sum = np.sum\n",
    "    \n",
    "    v = []\n",
    "    for s in sentences:\n",
    "        v.append(np_sum(vlookup[s], axis=0))\n",
    "    return np.vstack(v)\n",
    "\n",
    "def sentence_summary_0(sentences, model):\n",
    "    vlookup = model.wv.vocab\n",
    "    vectors = model.wv.vectors\n",
    "    np_sum = np.sum\n",
    "    \n",
    "    v = []\n",
    "    for s in sentences:\n",
    "        idx = [vlookup[w].index for w in s]\n",
    "        \n",
    "        v.append(np_sum(vectors[idx], axis=0))\n",
    "    return np.vstack(v)"
   ]
  },
  {
   "cell_type": "code",
   "execution_count": 13,
   "metadata": {},
   "outputs": [
    {
     "name": "stdout",
     "output_type": "stream",
     "text": [
      "14.9 ms ± 736 µs per loop (mean ± std. dev. of 7 runs, 1000 loops each)\n"
     ]
    }
   ],
   "source": [
    "%%timeit -n 1000\n",
    "sentence_summary(sentences[:200], model)"
   ]
  },
  {
   "cell_type": "code",
   "execution_count": 14,
   "metadata": {},
   "outputs": [
    {
     "name": "stdout",
     "output_type": "stream",
     "text": [
      "3.31 ms ± 42.2 µs per loop (mean ± std. dev. of 7 runs, 1000 loops each)\n"
     ]
    }
   ],
   "source": [
    "%%timeit -n 1000\n",
    "sentence_summary_0(sentences[:200], model)"
   ]
  },
  {
   "cell_type": "code",
   "execution_count": 15,
   "metadata": {},
   "outputs": [],
   "source": [
    "sentences_idx = [np.asarray([model.wv.vocab[w].index for w in s], dtype=np.intc) for s in sentences]"
   ]
  },
  {
   "cell_type": "code",
   "execution_count": 16,
   "metadata": {},
   "outputs": [],
   "source": [
    "def sentence_summary_1(sentences, model):\n",
    "    vectors = model.wv.vectors\n",
    "    np_sum = np.sum\n",
    "    \n",
    "    v = []\n",
    "    for s in sentences:\n",
    "        v.append(np_sum(vectors[s], axis=0))\n",
    "    return np.vstack(v)\n",
    "\n",
    "def sentence_summary_2(sentences, model):\n",
    "    vectors = model.wv.vectors\n",
    "    np_sum = np.sum\n",
    "    \n",
    "    v = np.vstack([np_sum(vectors[s], axis=0) for s in sentences])\n",
    "    return v"
   ]
  },
  {
   "cell_type": "code",
   "execution_count": 17,
   "metadata": {},
   "outputs": [
    {
     "name": "stdout",
     "output_type": "stream",
     "text": [
      "1.92 ms ± 44.7 µs per loop (mean ± std. dev. of 7 runs, 1000 loops each)\n"
     ]
    }
   ],
   "source": [
    "%%timeit -n 1000\n",
    "sentence_summary_1(sentences_idx[:200], model)"
   ]
  },
  {
   "cell_type": "code",
   "execution_count": 18,
   "metadata": {},
   "outputs": [
    {
     "name": "stdout",
     "output_type": "stream",
     "text": [
      "2.13 ms ± 69 µs per loop (mean ± std. dev. of 7 runs, 1000 loops each)\n"
     ]
    }
   ],
   "source": [
    "%%timeit -n 1000\n",
    "sentence_summary_2(sentences_idx[:200], model)"
   ]
  },
  {
   "cell_type": "code",
   "execution_count": 19,
   "metadata": {},
   "outputs": [],
   "source": [
    "%%cython\n",
    "import numpy as np\n",
    "cimport numpy as np\n",
    "import cython\n",
    "\n",
    "def sentence_summary_3(sentences, model):\n",
    "    cdef int size = model.vector_size\n",
    "    cdef float[:,:] vectors = model.wv.vectors\n",
    "\n",
    "    cdef int sentence_index, word_index, d\n",
    "    np_sum = np.sum\n",
    "    \n",
    "    output = np.zeros((len(sentences), size), dtype=np.float32)   \n",
    "    cdef float[:,:] sv = output\n",
    "    \n",
    "    for sentence_index, sentence in enumerate(sentences):\n",
    "        for word_index in sentence:\n",
    "            for d in range(size):\n",
    "                sv[sentence_index, d] += vectors[word_index, d]\n",
    "    \n",
    "    return output\n",
    "\n",
    "@cython.boundscheck(False)\n",
    "@cython.wraparound(False)\n",
    "def sentence_summary_4(sentences, model):\n",
    "    cdef int size = model.vector_size\n",
    "    cdef float[:,:] vectors = model.wv.vectors\n",
    "\n",
    "    cdef int sentence_index, word_index, d\n",
    "    np_sum = np.sum\n",
    "    \n",
    "    output = np.zeros((len(sentences), size), dtype=np.float32)   \n",
    "    cdef float[:,:] sv = output\n",
    "    \n",
    "    for sentence_index, sentence in enumerate(sentences):\n",
    "        for word_index in sentence:\n",
    "            for d in range(size):\n",
    "                sv[sentence_index, d] += vectors[word_index, d]\n",
    "    \n",
    "    return output\n",
    "\n",
    "def sentence_summary_5(sentences, model):\n",
    "    cdef int size = model.vector_size\n",
    "    cdef float[:,:] vectors = model.wv.vectors\n",
    "\n",
    "    np_sum = np.sum\n",
    "    np_asarray = np.asarray\n",
    "    \n",
    "    output = np.zeros((len(sentences), size), dtype=np.float32)   \n",
    "    cdef float[:,:] sv = output\n",
    "    \n",
    "    cdef int[:] sentence_view\n",
    "    cdef int sentence_len\n",
    "    \n",
    "    \n",
    "    for i in xrange(len(sentences)):\n",
    "        sentence_view = sentences[i]\n",
    "        sentence_len = len(sentences[i])\n",
    "        sentence_summary_5_cloop(size, sentence_view, sentence_len, i, vectors, sv)\n",
    "        \n",
    "    return output\n",
    "\n",
    "cdef void sentence_summary_5_cloop(int size, int[:] sentence_view, int sentence_len, int sentence_idx, float[:,:] vectors, float[:,:] summary_vectors) nogil:\n",
    "    cdef int i,d, word_index\n",
    "    \n",
    "    for i in xrange(sentence_len):\n",
    "        word_index = sentence_view[i]\n",
    "        \n",
    "        for d in xrange(size):\n",
    "            summary_vectors[sentence_idx, d] += vectors[word_index, d]\n",
    "            \n",
    "            \n",
    "@cython.boundscheck(False)\n",
    "@cython.wraparound(False)\n",
    "def sentence_summary_6(sentences, model):\n",
    "    cdef int size = model.vector_size\n",
    "    cdef float[:,:] vectors = model.wv.vectors\n",
    "\n",
    "    np_sum = np.sum\n",
    "    np_asarray = np.asarray\n",
    "    \n",
    "    output = np.zeros((len(sentences), size), dtype=np.float32)   \n",
    "    cdef float[:,:] sv = output\n",
    "    \n",
    "    cdef int[:] sentence_view\n",
    "    cdef int sentence_len\n",
    "    \n",
    "    \n",
    "    for i in xrange(len(sentences)):\n",
    "        sentence_view = sentences[i]\n",
    "        sentence_len = len(sentences[i])\n",
    "        sentence_summary_6_cloop(size, sentence_view, sentence_len, i, vectors, sv)\n",
    "        \n",
    "    return output\n",
    "\n",
    "@cython.boundscheck(False)\n",
    "@cython.wraparound(False)\n",
    "cdef void sentence_summary_6_cloop(int size, int[:] sentence_view, int sentence_len, int sentence_idx, float[:,:] vectors, float[:,:] summary_vectors) nogil:\n",
    "    cdef int i,d, word_index\n",
    "    \n",
    "    for i in xrange(sentence_len):\n",
    "        word_index = sentence_view[i]\n",
    "        \n",
    "        for d in xrange(size):\n",
    "            summary_vectors[sentence_idx, d] += vectors[word_index, d]"
   ]
  },
  {
   "cell_type": "code",
   "execution_count": 20,
   "metadata": {},
   "outputs": [
    {
     "name": "stdout",
     "output_type": "stream",
     "text": [
      "621 µs ± 5.78 µs per loop (mean ± std. dev. of 7 runs, 1000 loops each)\n"
     ]
    }
   ],
   "source": [
    "%%timeit -n 1000\n",
    "sentence_summary_3(sentences_idx[:200], model)"
   ]
  },
  {
   "cell_type": "code",
   "execution_count": 21,
   "metadata": {},
   "outputs": [
    {
     "name": "stdout",
     "output_type": "stream",
     "text": [
      "534 µs ± 10.3 µs per loop (mean ± std. dev. of 7 runs, 1000 loops each)\n"
     ]
    }
   ],
   "source": [
    "%%timeit -n 1000\n",
    "sentence_summary_4(sentences_idx[:200], model)"
   ]
  },
  {
   "cell_type": "code",
   "execution_count": 22,
   "metadata": {},
   "outputs": [
    {
     "name": "stdout",
     "output_type": "stream",
     "text": [
      "366 µs ± 5.58 µs per loop (mean ± std. dev. of 7 runs, 1000 loops each)\n"
     ]
    }
   ],
   "source": [
    "%%timeit -n 1000\n",
    "sentence_summary_5(sentences_idx[:200], model)"
   ]
  },
  {
   "cell_type": "code",
   "execution_count": 23,
   "metadata": {},
   "outputs": [
    {
     "name": "stdout",
     "output_type": "stream",
     "text": [
      "292 µs ± 15.4 µs per loop (mean ± std. dev. of 7 runs, 1000 loops each)\n"
     ]
    }
   ],
   "source": [
    "%%timeit -n 1000\n",
    "sentence_summary_6(sentences_idx[:200], model)"
   ]
  },
  {
   "cell_type": "code",
   "execution_count": 24,
   "metadata": {},
   "outputs": [],
   "source": [
    "%%cython\n",
    "\n",
    "cdef extern from \"/Users/oliverborchers/Desktop/GSDEV/gensim-develop/gensim/models/voidptr.h\":\n",
    "    void* PyCObject_AsVoidPtr(object obj)\n",
    "\n",
    "import numpy as np\n",
    "cimport numpy as np\n",
    "import cython\n",
    "\n",
    "import scipy.linalg.blas as fblas\n",
    "\n",
    "ctypedef np.float32_t REAL_t\n",
    "ctypedef np.int32_t INT_t\n",
    "\n",
    "ctypedef void (*saxpy_ptr) (const int *N, const float *alpha, const float *X, const int *incX, float *Y, const int *incY) nogil\n",
    "cdef saxpy_ptr saxpy=<saxpy_ptr>PyCObject_AsVoidPtr(fblas.saxpy._cpointer)\n",
    "\n",
    "cdef REAL_t ONEF = <REAL_t>1.0\n",
    "cdef int ONE = 1\n",
    "\n",
    "@cython.boundscheck(False)\n",
    "@cython.wraparound(False)\n",
    "def sentence_summary_7(sentences, model):\n",
    "    cdef int size = model.vector_size\n",
    "    cdef REAL_t *vectors = <REAL_t *>(np.PyArray_DATA(model.wv.vectors))\n",
    "    \n",
    "    output = np.zeros((len(sentences), size), dtype=np.float32)   \n",
    "    cdef REAL_t *sv = <REAL_t *>(np.PyArray_DATA(output))\n",
    "    \n",
    "    cdef INT_t *sentence_view\n",
    "    \n",
    "    for i in xrange(len(sentences)):\n",
    "        sentence_view = <INT_t *>(np.PyArray_DATA(sentences[i]))\n",
    "        sentence_len = len(sentences[i])\n",
    "        \n",
    "        sentence_summary_7_cloop(size, sentence_view, sentence_len, i, vectors, sv)\n",
    "        \n",
    "    return output\n",
    "\n",
    "@cython.boundscheck(False)\n",
    "@cython.wraparound(False)\n",
    "cdef void sentence_summary_7_cloop(const int size, const INT_t *sentence_view, const int sentence_len, \n",
    "                                   const int sentence_idx, const REAL_t *vectors, REAL_t *summary_vectors) nogil:\n",
    "    \n",
    "    cdef int i,d, word_index\n",
    "    \n",
    "    for i in xrange(sentence_len):\n",
    "        word_index = sentence_view[i]\n",
    "        \n",
    "        saxpy(&size, &ONEF, &vectors[word_index * size], &ONE, &summary_vectors[sentence_idx * size], &ONE)"
   ]
  },
  {
   "cell_type": "code",
   "execution_count": 25,
   "metadata": {},
   "outputs": [
    {
     "data": {
      "text/plain": [
       "True"
      ]
     },
     "execution_count": 25,
     "metadata": {},
     "output_type": "execute_result"
    }
   ],
   "source": [
    "np.allclose(sentence_summary_7(sentences_idx[:200], model), sentence_summary_6(sentences_idx[:200], model))"
   ]
  },
  {
   "cell_type": "code",
   "execution_count": 26,
   "metadata": {},
   "outputs": [
    {
     "name": "stdout",
     "output_type": "stream",
     "text": [
      "116 µs ± 4.84 µs per loop (mean ± std. dev. of 7 runs, 1000 loops each)\n"
     ]
    }
   ],
   "source": [
    "%%timeit -n 1000\n",
    "sentence_summary_7(sentences_idx[:200], model)"
   ]
  },
  {
   "cell_type": "code",
   "execution_count": null,
   "metadata": {},
   "outputs": [],
   "source": []
  }
 ],
 "metadata": {
  "kernelspec": {
   "display_name": "Python 3",
   "language": "python",
   "name": "python3"
  },
  "language_info": {
   "codemirror_mode": {
    "name": "ipython",
    "version": 3
   },
   "file_extension": ".py",
   "mimetype": "text/x-python",
   "name": "python",
   "nbconvert_exporter": "python",
   "pygments_lexer": "ipython3",
   "version": "3.6.7"
  }
 },
 "nbformat": 4,
 "nbformat_minor": 2
}
